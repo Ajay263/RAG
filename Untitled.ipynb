{
 "cells": [
  {
   "cell_type": "code",
   "execution_count": 1,
   "id": "cfa78c48-62b2-49b4-a2ca-818d6c4bc3a6",
   "metadata": {},
   "outputs": [],
   "source": [
    "import pandas as pd"
   ]
  },
  {
   "cell_type": "code",
   "execution_count": 2,
   "id": "13d7ec71-063b-4ad6-9b9d-a6df36b0e1a8",
   "metadata": {},
   "outputs": [],
   "source": [
    "import time\n",
    "import requests\n",
    "from bs4 import BeautifulSoup\n",
    "\n",
    "REPLACEMENTS: dict[str, str] = {\n",
    "    \"“\": \"'\",\n",
    "    \"”\": \"'\",\n",
    "    \"’\": \"'\",\n",
    "    \"‘\": \"'\",\n",
    "    \"…\": \"...\",\n",
    "    \"—\": \"-\",\n",
    "    \"\\u00a0\": \" \",\n",
    "}\n",
    "\n",
    "EXCLUDE_STARTSWITH: list[str] = [\n",
    "    \"Written By\",\n",
    "    \"Image Credit\",\n",
    "    \"In health\",\n",
    "    \"Michael Greger\",\n",
    "    \"-Michael Greger\",\n",
    "    \"PS:\",\n",
    "    \"A founding member\",\n",
    "    \"Subscribe\",\n",
    "    \"Catch up\",\n",
    "    \"Charity ID\",\n",
    "    \"We  our volunteers!\",\n",
    "    \"Interested in learning more about\",\n",
    "    \"Check out\",\n",
    "    \"For more on\",\n",
    "]\n",
    "\n",
    "def get_webpage_content(url: str, timeout: int = 10) -> requests.Response | None:\n",
    "    \"\"\"Fetches the HTML content of a webpage.\n",
    "\n",
    "    Args:\n",
    "        url (str): The URL of the webpage to retrieve.\n",
    "        timeout (int, optional): Timeout for the request in seconds. Defaults to 10.\n",
    "\n",
    "    Returns:\n",
    "        requests.Response | None: The response object containing the HTML content, or None if an error occurs.\n",
    "    \"\"\"\n",
    "    try:\n",
    "        response = requests.get(url, headers={\"User-Agent\": \"Mozilla/5.0\"}, timeout=timeout)\n",
    "        response.raise_for_status()\n",
    "    except requests.exceptions.RequestException as e:\n",
    "        print(f\"Error: {e}\")\n",
    "        return None\n",
    "\n",
    "    return response\n",
    "\n",
    "def filter_links(links: list[str], root: str) -> list[str]:\n",
    "    \"\"\"Filters links by ensuring they start with the root URL and are not pagination links.\n",
    "\n",
    "    Args:\n",
    "        links (list[str]): List of extracted links from a webpage.\n",
    "        root (str): The root URL to filter links that start with it.\n",
    "\n",
    "    Returns:\n",
    "        list[str]: Filtered list of links.\n",
    "    \"\"\"\n",
    "    filtered_links: list[str] = []\n",
    "    for href in links:\n",
    "        if not href.startswith(root):\n",
    "            continue\n",
    "        link_tail: str = href.replace(root, \"\")\n",
    "        if link_tail and not link_tail.startswith(\"page\"):\n",
    "            filtered_links.append(href)\n",
    "\n",
    "    return filtered_links\n",
    "\n",
    "def extract_all_urls(root: str, page_stop: int | None = None, wait: float = 0.2) -> list[str]:\n",
    "    \"\"\"Extracts all blog post URLs from paginated web pages.\n",
    "\n",
    "    Args:\n",
    "        root (str): The base URL of the website to scrape.\n",
    "        page_stop (int | None, optional): Stop after a certain number of pages. Defaults to None (no limit).\n",
    "        wait (float, optional): Delay between page requests to avoid blocking. Defaults to 0.2.\n",
    "\n",
    "    Returns:\n",
    "        list[str]: List of all blog post URLs.\n",
    "    \"\"\"\n",
    "    i_page: int = 0\n",
    "    url_list: list[str] = []\n",
    "    while True:\n",
    "        time.sleep(wait)  # wait a bit to avoid being blocked\n",
    "        i_page += 1\n",
    "\n",
    "        if page_stop is not None and i_page > page_stop:\n",
    "            break\n",
    "\n",
    "        if i_page == 1:\n",
    "            page_url = root\n",
    "        else:\n",
    "            page_url = f\"{root}page/{i_page}/\"\n",
    "        print(f\"{i_page}. Page URL: {page_url}\")\n",
    "\n",
    "        response = get_webpage_content(page_url)\n",
    "        if response is None:\n",
    "            break\n",
    "\n",
    "        soup = BeautifulSoup(response.content, \"html.parser\")\n",
    "        links: list[str] = sorted({link[\"href\"] for link in soup.find_all(\"a\", href=True)})\n",
    "\n",
    "        blog_posts_of_page: list[str] = filter_links(links, root)\n",
    "        n_posts: int = len(blog_posts_of_page)\n",
    "        print(f\"\\t Number of blog posts: {n_posts}\")\n",
    "\n",
    "        if n_posts < 2:\n",
    "            break\n",
    "        url_list.extend(blog_posts_of_page)\n",
    "\n",
    "    return url_list\n",
    "\n",
    "def replace_strange_chars(text: str) -> str:\n",
    "    \"\"\"Replaces strange characters in a string with more standard equivalents.\n",
    "\n",
    "    Args:\n",
    "        text (str): The input string.\n",
    "\n",
    "    Returns:\n",
    "        str: The cleaned string with replacements applied.\n",
    "    \"\"\"\n",
    "    return text.translate(str.maketrans(REPLACEMENTS))\n",
    "\n",
    "def get_meta_data(soup: BeautifulSoup) -> dict:\n",
    "    \"\"\"Extracts metadata from a blog page such as title, created date, and updated date.\n",
    "\n",
    "    Args:\n",
    "        soup (BeautifulSoup): Parsed HTML of the blog page.\n",
    "\n",
    "    Returns:\n",
    "        dict: A dictionary containing the blog's title, created date, and updated date.\n",
    "    \"\"\"\n",
    "    meta_data = {\n",
    "        \"title\": soup.find(\"h1\", class_=\"entry-title\").get_text(),\n",
    "        \"created\": soup.find(\"time\", class_=\"updated\")[\"datetime\"],\n",
    "        \"updated\": soup.find_all(\"time\")[1][\"datetime\"],\n",
    "    }\n",
    "    return meta_data\n",
    "\n",
    "def get_paragraphs(soup: BeautifulSoup) -> list[str]:\n",
    "    \"\"\"Extracts and cleans paragraphs from the blog content, excluding certain phrases.\n",
    "\n",
    "    Args:\n",
    "        soup (BeautifulSoup): Parsed HTML of the blog page.\n",
    "\n",
    "    Returns:\n",
    "        list[str]: A list of cleaned paragraphs from the blog content.\n",
    "    \"\"\"\n",
    "    paragraphs_html: list = soup.find_all(\"p\", class_=\"p1\")\n",
    "    if not paragraphs_html:\n",
    "        paragraphs_html = soup.find_all(\"p\")\n",
    "\n",
    "    paragraphs_raw: list[str] = [replace_strange_chars(para_html.get_text().strip()) for para_html in paragraphs_html]\n",
    "\n",
    "    paragraphs_clean: list[str] = [\n",
    "        para_raw\n",
    "        for para_raw in paragraphs_raw\n",
    "        if para_raw and not any(para_raw.startswith(prefix) for prefix in EXCLUDE_STARTSWITH)\n",
    "    ]\n",
    "    return paragraphs_clean\n",
    "\n",
    "def get_key_takeaways(soup: BeautifulSoup) -> list[str]:\n",
    "    \"\"\"Extracts key takeaways from the blog content.\n",
    "\n",
    "    Args:\n",
    "        soup (BeautifulSoup): Parsed HTML of the blog page.\n",
    "\n",
    "    Returns:\n",
    "        list[str]: A list of key takeaways from the blog.\n",
    "    \"\"\"\n",
    "    key_takeaways_heading = soup.find(\"p\", string=\"KEY TAKEAWAYS\")\n",
    "    if key_takeaways_heading is None:\n",
    "        return []\n",
    "\n",
    "    key_takeaways_list = key_takeaways_heading.find_next(\"ul\")\n",
    "    return [replace_strange_chars(li.get_text().strip()) for li in key_takeaways_list.find_all(\"li\")]\n",
    "\n",
    "def extract_blog_data(soup: BeautifulSoup) -> dict:\n",
    "    \"\"\"Extracts all relevant blog data, including metadata, paragraphs, categories, and key takeaways.\n",
    "\n",
    "    Args:\n",
    "        soup (BeautifulSoup): Parsed HTML of the blog page.\n",
    "\n",
    "    Returns:\n",
    "        dict: A dictionary containing the blog's metadata, paragraphs, categories, and key takeaways.\n",
    "    \"\"\"\n",
    "    blog_content: dict = get_meta_data(soup)\n",
    "\n",
    "    tags_raw = soup.find(\"article\").get(\"class\")\n",
    "    blog_content[\"category\"] = [cat.split(\"-\")[1] for cat in tags_raw if cat.startswith(\"category-\")]\n",
    "    blog_content[\"blog_tags\"] = [tag.split(\"-\")[1:] for tag in tags_raw if tag.startswith(\"tag-\")]\n",
    "    blog_content[\"raw_tags\"] = tags_raw\n",
    "\n",
    "    blog_content[\"paragraphs\"] = get_paragraphs(soup)\n",
    "    blog_content[\"key_takeaways\"] = get_key_takeaways(soup)\n",
    "\n",
    "    return blog_content\n"
   ]
  },
  {
   "cell_type": "code",
   "execution_count": 3,
   "id": "fbfbbb53-e853-463a-8c6f-8ef6e35fc393",
   "metadata": {},
   "outputs": [],
   "source": [
    "import json\n",
    "import time\n",
    "from pathlib import Path\n",
    "\n",
    "from bs4 import BeautifulSoup\n",
    "from tqdm import tqdm"
   ]
  },
  {
   "cell_type": "code",
   "execution_count": 4,
   "id": "90955681-5c31-41f0-b317-a08dca35a188",
   "metadata": {},
   "outputs": [
    {
     "name": "stdout",
     "output_type": "stream",
     "text": [
      "True\n",
      "True\n",
      "True\n"
     ]
    }
   ],
   "source": [
    "from pathlib import Path\n",
    "\n",
    "# Define the paths relative to the current directory\n",
    "data_path = Path(\".\").resolve() / \"data\"  # Now resolves to the current directory\n",
    "blog_posts_root: Path = data_path / \"blog_posts\"\n",
    "post_path_raw: Path = blog_posts_root / \"raw_txt\"\n",
    "post_path_json: Path = blog_posts_root / \"json\"\n",
    "\n",
    "# Create directories if they don't exist\n",
    "data_path.mkdir(parents=True, exist_ok=True)\n",
    "blog_posts_root.mkdir(parents=True, exist_ok=True)\n",
    "post_path_raw.mkdir(parents=True, exist_ok=True)\n",
    "post_path_json.mkdir(parents=True, exist_ok=True)\n",
    "\n",
    "# Check if the directories exist\n",
    "print(data_path.is_dir())  # Should print True\n",
    "print(post_path_raw.is_dir())  # Should print True\n",
    "print(post_path_json.is_dir())  # Should print True\n"
   ]
  },
  {
   "cell_type": "code",
   "execution_count": 5,
   "id": "5a70c5da-f039-48be-9ffb-bf43f1136872",
   "metadata": {},
   "outputs": [],
   "source": [
    "root_url: str = \"https://nutritionfacts.org/blog/\"\n",
    "file_url_list: Path = blog_posts_root / \"blog_posts_urls.csv\""
   ]
  },
  {
   "cell_type": "code",
   "execution_count": 6,
   "id": "4e8221b2-4960-4a7d-b6bd-298ce9fd6a2a",
   "metadata": {},
   "outputs": [],
   "source": [
    "response = get_webpage_content(root_url)"
   ]
  },
  {
   "cell_type": "code",
   "execution_count": 7,
   "id": "37892a99-10bc-4d8f-9f63-5c7e6bd81ef3",
   "metadata": {},
   "outputs": [],
   "source": [
    "# Parse the HTML content\n",
    "soup = BeautifulSoup(response.content, \"html.parser\")"
   ]
  },
  {
   "cell_type": "code",
   "execution_count": 8,
   "id": "9e184b5a-0bc9-45d0-81cd-bed205aa2188",
   "metadata": {},
   "outputs": [
    {
     "name": "stdout",
     "output_type": "stream",
     "text": [
      "Number of links: 92\n"
     ]
    }
   ],
   "source": [
    "# Find all links on the page\n",
    "links: set[str] = sorted({link[\"href\"] for link in soup.find_all(\"a\", href=True)})\n",
    "print(\"Number of links:\", len(links))"
   ]
  },
  {
   "cell_type": "code",
   "execution_count": 9,
   "id": "ba0e710f-b7b2-4548-b969-f6e1cb22114a",
   "metadata": {},
   "outputs": [
    {
     "name": "stdout",
     "output_type": "stream",
     "text": [
      "Number of blog posts: 24\n"
     ]
    }
   ],
   "source": [
    "# filter the links\n",
    "blog_posts_of_page: list[str] = filter_links(links, root_url)\n",
    "n_posts: int = len(blog_posts_of_page)\n",
    "print(f\"Number of blog posts: {n_posts}\")\n"
   ]
  },
  {
   "cell_type": "markdown",
   "id": "c3f1b5a9-626a-4c32-9a12-cd629effbbe4",
   "metadata": {},
   "source": [
    "### Extract urls of all blog posts"
   ]
  },
  {
   "cell_type": "code",
   "execution_count": 10,
   "id": "ab85f417-dc30-4905-ae9c-40d737ce9450",
   "metadata": {},
   "outputs": [
    {
     "name": "stdout",
     "output_type": "stream",
     "text": [
      "1. Page URL: https://nutritionfacts.org/blog/\n",
      "\t Number of blog posts: 24\n",
      "2. Page URL: https://nutritionfacts.org/blog/page/2/\n",
      "\t Number of blog posts: 25\n",
      "3. Page URL: https://nutritionfacts.org/blog/page/3/\n",
      "\t Number of blog posts: 25\n",
      "4. Page URL: https://nutritionfacts.org/blog/page/4/\n",
      "\t Number of blog posts: 25\n",
      "5. Page URL: https://nutritionfacts.org/blog/page/5/\n",
      "\t Number of blog posts: 25\n",
      "6. Page URL: https://nutritionfacts.org/blog/page/6/\n",
      "\t Number of blog posts: 25\n",
      "7. Page URL: https://nutritionfacts.org/blog/page/7/\n",
      "\t Number of blog posts: 25\n",
      "8. Page URL: https://nutritionfacts.org/blog/page/8/\n",
      "\t Number of blog posts: 25\n",
      "9. Page URL: https://nutritionfacts.org/blog/page/9/\n",
      "\t Number of blog posts: 25\n",
      "10. Page URL: https://nutritionfacts.org/blog/page/10/\n",
      "\t Number of blog posts: 25\n",
      "11. Page URL: https://nutritionfacts.org/blog/page/11/\n",
      "\t Number of blog posts: 25\n",
      "12. Page URL: https://nutritionfacts.org/blog/page/12/\n",
      "\t Number of blog posts: 25\n",
      "13. Page URL: https://nutritionfacts.org/blog/page/13/\n",
      "\t Number of blog posts: 25\n",
      "14. Page URL: https://nutritionfacts.org/blog/page/14/\n",
      "\t Number of blog posts: 25\n",
      "15. Page URL: https://nutritionfacts.org/blog/page/15/\n",
      "\t Number of blog posts: 25\n",
      "16. Page URL: https://nutritionfacts.org/blog/page/16/\n",
      "\t Number of blog posts: 25\n",
      "17. Page URL: https://nutritionfacts.org/blog/page/17/\n",
      "\t Number of blog posts: 25\n",
      "18. Page URL: https://nutritionfacts.org/blog/page/18/\n",
      "\t Number of blog posts: 25\n",
      "19. Page URL: https://nutritionfacts.org/blog/page/19/\n",
      "\t Number of blog posts: 25\n",
      "20. Page URL: https://nutritionfacts.org/blog/page/20/\n",
      "\t Number of blog posts: 25\n",
      "21. Page URL: https://nutritionfacts.org/blog/page/21/\n",
      "\t Number of blog posts: 25\n",
      "22. Page URL: https://nutritionfacts.org/blog/page/22/\n",
      "\t Number of blog posts: 25\n",
      "23. Page URL: https://nutritionfacts.org/blog/page/23/\n",
      "\t Number of blog posts: 25\n",
      "24. Page URL: https://nutritionfacts.org/blog/page/24/\n",
      "\t Number of blog posts: 25\n",
      "25. Page URL: https://nutritionfacts.org/blog/page/25/\n",
      "\t Number of blog posts: 25\n",
      "26. Page URL: https://nutritionfacts.org/blog/page/26/\n",
      "\t Number of blog posts: 25\n",
      "27. Page URL: https://nutritionfacts.org/blog/page/27/\n",
      "\t Number of blog posts: 25\n",
      "28. Page URL: https://nutritionfacts.org/blog/page/28/\n",
      "\t Number of blog posts: 25\n",
      "29. Page URL: https://nutritionfacts.org/blog/page/29/\n",
      "\t Number of blog posts: 25\n",
      "30. Page URL: https://nutritionfacts.org/blog/page/30/\n",
      "\t Number of blog posts: 25\n",
      "31. Page URL: https://nutritionfacts.org/blog/page/31/\n",
      "\t Number of blog posts: 25\n",
      "32. Page URL: https://nutritionfacts.org/blog/page/32/\n",
      "\t Number of blog posts: 25\n",
      "33. Page URL: https://nutritionfacts.org/blog/page/33/\n",
      "\t Number of blog posts: 25\n",
      "34. Page URL: https://nutritionfacts.org/blog/page/34/\n",
      "\t Number of blog posts: 25\n",
      "35. Page URL: https://nutritionfacts.org/blog/page/35/\n",
      "\t Number of blog posts: 25\n",
      "36. Page URL: https://nutritionfacts.org/blog/page/36/\n",
      "\t Number of blog posts: 25\n",
      "37. Page URL: https://nutritionfacts.org/blog/page/37/\n",
      "\t Number of blog posts: 25\n",
      "38. Page URL: https://nutritionfacts.org/blog/page/38/\n",
      "\t Number of blog posts: 25\n",
      "39. Page URL: https://nutritionfacts.org/blog/page/39/\n",
      "\t Number of blog posts: 25\n",
      "40. Page URL: https://nutritionfacts.org/blog/page/40/\n",
      "\t Number of blog posts: 25\n",
      "41. Page URL: https://nutritionfacts.org/blog/page/41/\n",
      "\t Number of blog posts: 25\n",
      "42. Page URL: https://nutritionfacts.org/blog/page/42/\n",
      "\t Number of blog posts: 25\n",
      "43. Page URL: https://nutritionfacts.org/blog/page/43/\n",
      "\t Number of blog posts: 25\n",
      "44. Page URL: https://nutritionfacts.org/blog/page/44/\n",
      "\t Number of blog posts: 25\n",
      "45. Page URL: https://nutritionfacts.org/blog/page/45/\n",
      "\t Number of blog posts: 25\n",
      "46. Page URL: https://nutritionfacts.org/blog/page/46/\n",
      "\t Number of blog posts: 25\n",
      "47. Page URL: https://nutritionfacts.org/blog/page/47/\n",
      "\t Number of blog posts: 25\n",
      "48. Page URL: https://nutritionfacts.org/blog/page/48/\n",
      "\t Number of blog posts: 25\n",
      "49. Page URL: https://nutritionfacts.org/blog/page/49/\n",
      "\t Number of blog posts: 25\n",
      "50. Page URL: https://nutritionfacts.org/blog/page/50/\n",
      "\t Number of blog posts: 25\n",
      "51. Page URL: https://nutritionfacts.org/blog/page/51/\n",
      "\t Number of blog posts: 25\n",
      "52. Page URL: https://nutritionfacts.org/blog/page/52/\n",
      "\t Number of blog posts: 25\n",
      "53. Page URL: https://nutritionfacts.org/blog/page/53/\n",
      "\t Number of blog posts: 25\n",
      "54. Page URL: https://nutritionfacts.org/blog/page/54/\n",
      "\t Number of blog posts: 19\n",
      "55. Page URL: https://nutritionfacts.org/blog/page/55/\n",
      "\t Number of blog posts: 1\n"
     ]
    }
   ],
   "source": [
    "urls_list: list[str] = extract_all_urls(root=root_url, page_stop=None)"
   ]
  },
  {
   "cell_type": "code",
   "execution_count": 11,
   "id": "8c9de13c-eefc-4c34-a20e-8b5a6b3b3fbd",
   "metadata": {},
   "outputs": [
    {
     "name": "stdout",
     "output_type": "stream",
     "text": [
      "Number of unique blog posts: 1290\n"
     ]
    }
   ],
   "source": [
    "blog_post_urls_set = set(urls_list)\n",
    "print(\"Number of unique blog posts:\", len(blog_post_urls_set))\n",
    "# Number of blog posts: 1290"
   ]
  },
  {
   "cell_type": "code",
   "execution_count": 12,
   "id": "914e82af-0e7d-4514-bc44-8df9d16ddb3b",
   "metadata": {},
   "outputs": [
    {
     "name": "stdout",
     "output_type": "stream",
     "text": [
      "https://nutritionfacts.org/blog/29369/\n",
      "https://nutritionfacts.org/blog/66878/\n",
      "https://nutritionfacts.org/blog/66532/\n",
      "Number of unique blog posts: 1287\n"
     ]
    }
   ],
   "source": [
    "# post processing\n",
    "for url in list(blog_post_urls_set):  # create a copy of the set\n",
    "    link_tail: str = url.replace(root_url, \"\").replace(\"/\", \"\")\n",
    "    # remove some urls that are not blog posts\n",
    "    if link_tail.isdigit():\n",
    "        print(url)\n",
    "        blog_post_urls_set.remove(url)\n",
    "print(\"Number of unique blog posts:\", len(blog_post_urls_set))\n",
    "# Number of unique blog posts: 1287"
   ]
  },
  {
   "cell_type": "code",
   "execution_count": 13,
   "id": "32eb07dc-ccb4-4c83-9645-ac573eff4cc7",
   "metadata": {},
   "outputs": [],
   "source": [
    "# export to csv file\n",
    "with open(blog_posts_root / file_url_list, \"w\") as f:\n",
    "    for url in sorted(blog_post_urls_set):\n",
    "        f.write(f\"{url}\\n\")"
   ]
  },
  {
   "cell_type": "markdown",
   "id": "a6091560-ddb0-4c49-888b-5c789cbdb1f4",
   "metadata": {},
   "source": [
    "### Extract content of each blog post"
   ]
  },
  {
   "cell_type": "code",
   "execution_count": 14,
   "id": "76c43ddb-1cef-43ed-9fe4-ffc4480597cf",
   "metadata": {},
   "outputs": [],
   "source": [
    "# read from csv file\n",
    "with open(blog_posts_root / file_url_list) as f:\n",
    "    urls_list: list[str] = f.read().splitlines()"
   ]
  },
  {
   "cell_type": "markdown",
   "id": "20266af7-8153-4fe7-a887-f6f26ad9b8f9",
   "metadata": {},
   "source": [
    "### Testing"
   ]
  },
  {
   "cell_type": "code",
   "execution_count": 15,
   "id": "cc56b29d-158d-4ef9-aaf0-c88d0de9194f",
   "metadata": {},
   "outputs": [
    {
     "data": {
      "text/plain": [
       "'using-lavender-to-treat-anxiety'"
      ]
     },
     "execution_count": 15,
     "metadata": {},
     "output_type": "execute_result"
    }
   ],
   "source": [
    "blog_post_url = urls_list[1111]\n",
    "url_tail = blog_post_url.replace(root_url, \"\").replace(\"/\", \"\")\n",
    "url_tail"
   ]
  },
  {
   "cell_type": "code",
   "execution_count": 16,
   "id": "1382b4cd-33e8-42de-ba6b-568ebbc63002",
   "metadata": {},
   "outputs": [
    {
     "data": {
      "text/plain": [
       "'https://nutritionfacts.org/blog/using-lavender-to-treat-anxiety/'"
      ]
     },
     "execution_count": 16,
     "metadata": {},
     "output_type": "execute_result"
    }
   ],
   "source": [
    "blog_post_url"
   ]
  },
  {
   "cell_type": "code",
   "execution_count": 17,
   "id": "1d4f1fc4-c609-4ac4-ac4a-84e37f3f6888",
   "metadata": {},
   "outputs": [],
   "source": [
    "response = get_webpage_content(blog_post_url)\n",
    "# Parse the HTML content\n",
    "soup = BeautifulSoup(response.content, \"html.parser\")"
   ]
  },
  {
   "cell_type": "code",
   "execution_count": 18,
   "id": "f9c1fb9e-50ec-4164-b823-edb6f86c5c1c",
   "metadata": {},
   "outputs": [],
   "source": [
    "# write to file\n",
    "with open(f\"{url_tail}.html\", \"w\") as f:\n",
    "    f.write(str(soup))"
   ]
  },
  {
   "cell_type": "markdown",
   "id": "d59f9d42-4967-416a-849a-69591e7bc676",
   "metadata": {},
   "source": [
    "### pure content"
   ]
  },
  {
   "cell_type": "code",
   "execution_count": 19,
   "id": "2de0f059-8307-4031-8be3-676cffec048b",
   "metadata": {},
   "outputs": [
    {
     "data": {
      "text/plain": [
       "[]"
      ]
     },
     "execution_count": 19,
     "metadata": {},
     "output_type": "execute_result"
    }
   ],
   "source": [
    "# Extract the content you are interested in\n",
    "paragraphs_raw = soup.find_all(\"p\", class_=\"p1\")\n",
    "content = \"\\n\\n\".join(para.get_text() for para in paragraphs_raw)\n",
    "paragraphs_raw"
   ]
  },
  {
   "cell_type": "code",
   "execution_count": 20,
   "id": "156d5b10-5c11-4259-883d-274e5a3f5547",
   "metadata": {},
   "outputs": [],
   "source": [
    "with open(f\"{url_tail}.txt\", \"w\") as f:\n",
    "    f.write(content)"
   ]
  },
  {
   "cell_type": "markdown",
   "id": "5f6815a4-40f7-41f9-8f76-8535ab0d1bec",
   "metadata": {},
   "source": [
    "### meta data"
   ]
  },
  {
   "cell_type": "code",
   "execution_count": 21,
   "id": "539fb368-6e19-4211-ba3e-28b15ab88868",
   "metadata": {},
   "outputs": [
    {
     "data": {
      "text/plain": [
       "{'title': 'Using Lavender to Treat Anxiety',\n",
       " 'created': '2014-01-14T13:00:42+00:00',\n",
       " 'updated': '2024-05-15T14:38:37-04:00'}"
      ]
     },
     "execution_count": 21,
     "metadata": {},
     "output_type": "execute_result"
    }
   ],
   "source": [
    "meta_data = get_meta_data(soup)\n",
    "meta_data"
   ]
  },
  {
   "cell_type": "code",
   "execution_count": 22,
   "id": "ac1b8dd2-ad99-40ab-b0e7-4de8a5b42ac1",
   "metadata": {},
   "outputs": [
    {
     "data": {
      "text/plain": [
       "'Using Lavender to Treat Anxiety'"
      ]
     },
     "execution_count": 22,
     "metadata": {},
     "output_type": "execute_result"
    }
   ],
   "source": [
    "title_text = soup.find(\"h1\", class_=\"entry-title\").get_text()\n",
    "title_text"
   ]
  },
  {
   "cell_type": "code",
   "execution_count": 23,
   "id": "b289aa9b-24b8-4907-b14c-53260d951884",
   "metadata": {},
   "outputs": [
    {
     "name": "stdout",
     "output_type": "stream",
     "text": [
      "Datetime 01: 2014-01-14T13:00:42+00:00\n",
      "Datetime 02: 2024-05-15T14:38:37-04:00\n"
     ]
    }
   ],
   "source": [
    "# Extract the first datetime value\n",
    "date_created = soup.find(\"time\", class_=\"updated\")[\"datetime\"]\n",
    "\n",
    "# Extract the second datetime value (using the second <time> tag)\n",
    "date_last_update = soup.find_all(\"time\")[1][\"datetime\"]\n",
    "\n",
    "print(\"Datetime 01:\", date_created)\n",
    "print(\"Datetime 02:\", date_last_update)"
   ]
  },
  {
   "cell_type": "markdown",
   "id": "fdec6b8b-cf88-4064-9663-e292db3ec7d8",
   "metadata": {},
   "source": [
    "### paragraphs"
   ]
  },
  {
   "cell_type": "code",
   "execution_count": 24,
   "id": "bdf3ef9f-b8ce-4223-ba1f-dc00bfaff290",
   "metadata": {},
   "outputs": [
    {
     "data": {
      "text/plain": [
       "['Lavender oil, which is distilled from lavender flowers, is often used in aromatherapy and massage. Despite its popularity, only recently have scientific investigations been undertaken into its biological activity.',\n",
       " \"While there have been small-scale studies suggesting benefit from lavender oil massage, we didn't know if the benefit was coming from the lavender, the massage, or both. In an attempt to separate these two variables, a study was conducted in which patients in intensive care were given massages with either odorless oil or lavender oil. While patients massaged with lavender oil did say they felt less anxious and more positive, there were no objective differences found in terms of blood pressure, breathing, or heart rate. Perhaps the lavender was just covering up the nasty hospital smells.\",\n",
       " \"Subsequent studies using more sensitive tests did find physiological changes, though. We now know the scent of lavender can actually change brain wave patterns, but we didn't know what the implications were until recently. Studies have shown the scent of lavender makes people feel better as well as perform math faster and more accurately (whereas the smell of rosemary, for example, seemed only to enable folks to do the math faster, but not necessarily with greater accuracy).\",\n",
       " 'How else might one use natural means to improve cognitive performance? Check out my video Does a Drink Of Water Make Children Smarter? and for more brain hacking tips, Dietary Brain Wave Alteration.',\n",
       " 'But what if we actually eat lavender flowers? Or in the case of the study I profile in my 3-min video Lavender for Generalized Anxiety Disorder, take capsules of lavender-infused oil so as to perform a double-blind study to compare lavender head-to-head to lorazepam (Ativan).',\n",
       " \"Generalized and persistent anxiety is a frequent problem and is treated with benzodiazepines (also known as benzos or downers) like Ativan and Valium. Unfortunately, these substances can not only make one feel hungover, but they have a high potential for drug abuse and addiction. So researchers decided to give lavender a try. Ativan certainly reduced anxiety, but so did the lavender. By the end of the study you couldn't tell which group was which, and among those that responded to either, the lavender actually seemed to work better.\",\n",
       " \"The spice saffron may be aromatherapeutic as well. See Wake Up and Smell the Saffron for its role in treating PMS, above and beyond its other effects on the brain (Saffron vs. Prozac, Saffron for the Treatment of Alzheimer's, and Saffron Versus Aricept).\",\n",
       " 'Since lavender oil has no potential for drug abuse and no sedating side-effects, it appeared to be an effective and well-tolerated alternative to benzodiazepine drugs for amelioration of generalized anxiety.',\n",
       " \"One cautionary note, however: There was a case series published in the New England Journal of Medicine entitled 'Prepubertal Gynecomastia Linked to Lavender and Tea Tree Oils.' They reported cases of young boys exposed to lavender-containing lotions, soaps, hair gels, and shampoos starting to develop breasts. These effects disappeared after the products were discontinued, suggesting that lavender oil may possess hormone-disrupting activity. Indeed, when dripped on estrogen receptor positive breast cancer cells, lavender does show estrogenic effects and a decline in male hormone activity. It's unknown, however, if similar reactions occur inside the body when lavender flowers or lavender oil is ingested.\",\n",
       " 'There are some dietary components known to affect with the hormonal balance of young boys. Check out Dairy & Sexual Precocity.',\n",
       " 'More on lavender in Lavender for Migraine Headaches.',\n",
       " 'And more on dietary interventions for anxiety can be found in:',\n",
       " 'For more flower power see my blog and videos on hibiscus tea (Better Than Green Tea) and chamomile tea (Chamomile Tea May Not Be Safe During Pregnancy). And hey, broccoli florets are just clusters of flower buds. See The Best Detox, Broccoli Versus Breast Cancer Stem Cells, and dozens of my other broccoli videos.']"
      ]
     },
     "execution_count": 24,
     "metadata": {},
     "output_type": "execute_result"
    }
   ],
   "source": [
    "paragraphs_clean = get_paragraphs(soup)\n",
    "paragraphs_clean"
   ]
  },
  {
   "cell_type": "code",
   "execution_count": 25,
   "id": "58f91438-19f7-48c1-9da1-6e0dfa344c9c",
   "metadata": {},
   "outputs": [],
   "source": [
    "paragraphs_html: list = soup.find_all(\"p\", class_=\"p1\")\n",
    "if not paragraphs_html:\n",
    "    paragraphs_html = soup.find_all(\"p\")"
   ]
  },
  {
   "cell_type": "code",
   "execution_count": 26,
   "id": "1ddb42c0-2464-4001-8ed9-b706550cc300",
   "metadata": {},
   "outputs": [
    {
     "data": {
      "text/plain": [
       "['\\n\\n  Written By \\n    Michael Greger M.D. FACLM\\n  \\n  •\\n  \\n      January 14, 2014\\n  \\n\\n\\nLast updated: \\n  May 15, 2024\\n  \\n    • 3 min read\\n  ',\n",
       " '\\n',\n",
       " 'Lavender oil, which is distilled from lavender flowers, is often used in aromatherapy and massage. Despite its popularity, only recently have scientific investigations been undertaken into its biological activity.',\n",
       " 'While there have been small-scale studies suggesting benefit from lavender oil massage, we didn’t know if the benefit was coming from the lavender, the massage, or both. In an attempt to separate these two variables, a study was conducted in which patients in intensive care were given massages with either odorless oil or lavender oil. While patients massaged with lavender oil did say they felt less anxious and more positive, there were no objective differences found in terms of blood pressure, breathing, or heart rate.\\xa0Perhaps the lavender was just covering up the nasty hospital smells.',\n",
       " 'Subsequent studies using more sensitive tests did find physiological changes, though. We now know the scent of lavender can actually change brain wave patterns, but we didn’t know what the implications were until recently. Studies have shown the scent of lavender makes people feel better as well as perform math faster and more accurately (whereas the smell of rosemary, for example, seemed only to enable folks to do the math faster, but not necessarily with greater accuracy).',\n",
       " 'How else might one use natural means to improve cognitive performance? Check out my video Does a Drink Of Water Make Children Smarter? and for more brain hacking tips, Dietary Brain Wave Alteration.',\n",
       " 'But what if we actually eat lavender flowers? Or in the case of the study I profile in my 3-min video Lavender for Generalized Anxiety Disorder, take capsules of lavender-infused oil so as to perform a double-blind study to compare lavender head-to-head to lorazepam (Ativan).',\n",
       " 'Generalized and persistent anxiety is a frequent problem and is treated with benzodiazepines (also known as benzos or downers) like Ativan and Valium. Unfortunately, these substances can not only make one feel hungover, but they have a high potential for drug abuse and addiction. So researchers decided to give lavender a try. Ativan certainly reduced anxiety, but so did the lavender. By the end of the study you couldn’t tell which group was which, and among those that responded to either, the lavender actually seemed to work better.',\n",
       " 'The spice saffron may be aromatherapeutic as well. See Wake Up and Smell the Saffron for its role in treating PMS, above and beyond its other effects on the brain (Saffron vs. Prozac, Saffron for the Treatment of Alzheimer’s, and Saffron Versus Aricept).',\n",
       " 'Since lavender oil has no potential for drug abuse and no sedating side-effects, it appeared to be an effective and well-tolerated alternative to benzodiazepine drugs for amelioration of generalized anxiety.',\n",
       " 'One cautionary note, however: There was a case series published in the New England Journal of Medicine entitled “Prepubertal Gynecomastia Linked to Lavender and Tea Tree Oils.” They reported cases of young boys exposed to lavender-containing lotions, soaps, hair gels, and shampoos starting to develop breasts. These effects disappeared after the products were discontinued, suggesting that lavender oil may possess hormone-disrupting activity. Indeed, when dripped on estrogen receptor positive breast cancer cells, lavender does show estrogenic effects and a decline in male hormone activity. It’s unknown, however, if similar reactions occur inside the body when lavender flowers or lavender oil is ingested.',\n",
       " 'There are some dietary components known to affect with the hormonal balance of young boys. Check out Dairy & Sexual Precocity.',\n",
       " 'More on lavender in Lavender for Migraine Headaches.',\n",
       " 'And more on dietary interventions for anxiety can be found in:',\n",
       " 'For more flower power see my\\xa0blog and videos on hibiscus tea (Better Than Green Tea) and chamomile tea (Chamomile Tea May Not Be Safe During Pregnancy). And hey, broccoli florets are just clusters of flower buds. See\\xa0The Best Detox,\\xa0Broccoli Versus Breast Cancer Stem Cells, and dozens of my other\\xa0broccoli videos.',\n",
       " '-Michael Greger, M.D.',\n",
       " 'PS: If you haven’t yet, you can subscribe to my videos for free by\\xa0clicking here\\xa0and watch my full 2012 – 2015 presentations\\xa0Uprooting the Leading Causes of Death, More than an Apple a Day, From Table to Able, and Food as Medicine.',\n",
       " 'Michael Greger M.D. FACLM',\n",
       " 'A founding member and Fellow of the American College of Lifestyle Medicine, Michael Greger, MD, is a physician, New York Times bestselling author, and internationally recognized speaker on nutrition. Dr. Greger has lectured at the Conference on World Affairs, testified before Congress, and was invited as an expert witness in the defense of Oprah Winfrey in the infamous “meat defamation” trial.',\n",
       " '\\r\\n  Subscribe to our free newsletter and receive our Care for Your Skin as You Age infographic.\\r\\n  ',\n",
       " 'Catch up with Dr. Greger at one of his live speaking engagements:',\n",
       " '\\n\\n\\nCharity ID: 05-0559626\\n                    ',\n",
       " '\\n                    We  our volunteers!                    Apply Now!']"
      ]
     },
     "execution_count": 26,
     "metadata": {},
     "output_type": "execute_result"
    }
   ],
   "source": [
    "paragraphs_raw: list[str] = [para.get_text() for para in paragraphs_html]\n",
    "paragraphs_raw"
   ]
  },
  {
   "cell_type": "code",
   "execution_count": 27,
   "id": "0b6ecace-582a-4a79-a181-076e3d47c305",
   "metadata": {},
   "outputs": [
    {
     "data": {
      "text/plain": [
       "['Lavender oil, which is distilled from lavender flowers, is often used in aromatherapy and massage. Despite its popularity, only recently have scientific investigations been undertaken into its biological activity.',\n",
       " \"While there have been small-scale studies suggesting benefit from lavender oil massage, we didn't know if the benefit was coming from the lavender, the massage, or both. In an attempt to separate these two variables, a study was conducted in which patients in intensive care were given massages with either odorless oil or lavender oil. While patients massaged with lavender oil did say they felt less anxious and more positive, there were no objective differences found in terms of blood pressure, breathing, or heart rate. Perhaps the lavender was just covering up the nasty hospital smells.\",\n",
       " \"Subsequent studies using more sensitive tests did find physiological changes, though. We now know the scent of lavender can actually change brain wave patterns, but we didn't know what the implications were until recently. Studies have shown the scent of lavender makes people feel better as well as perform math faster and more accurately (whereas the smell of rosemary, for example, seemed only to enable folks to do the math faster, but not necessarily with greater accuracy).\",\n",
       " 'How else might one use natural means to improve cognitive performance? Check out my video Does a Drink Of Water Make Children Smarter? and for more brain hacking tips, Dietary Brain Wave Alteration.',\n",
       " 'But what if we actually eat lavender flowers? Or in the case of the study I profile in my 3-min video Lavender for Generalized Anxiety Disorder, take capsules of lavender-infused oil so as to perform a double-blind study to compare lavender head-to-head to lorazepam (Ativan).',\n",
       " \"Generalized and persistent anxiety is a frequent problem and is treated with benzodiazepines (also known as benzos or downers) like Ativan and Valium. Unfortunately, these substances can not only make one feel hungover, but they have a high potential for drug abuse and addiction. So researchers decided to give lavender a try. Ativan certainly reduced anxiety, but so did the lavender. By the end of the study you couldn't tell which group was which, and among those that responded to either, the lavender actually seemed to work better.\",\n",
       " \"The spice saffron may be aromatherapeutic as well. See Wake Up and Smell the Saffron for its role in treating PMS, above and beyond its other effects on the brain (Saffron vs. Prozac, Saffron for the Treatment of Alzheimer's, and Saffron Versus Aricept).\",\n",
       " 'Since lavender oil has no potential for drug abuse and no sedating side-effects, it appeared to be an effective and well-tolerated alternative to benzodiazepine drugs for amelioration of generalized anxiety.',\n",
       " \"One cautionary note, however: There was a case series published in the New England Journal of Medicine entitled 'Prepubertal Gynecomastia Linked to Lavender and Tea Tree Oils.' They reported cases of young boys exposed to lavender-containing lotions, soaps, hair gels, and shampoos starting to develop breasts. These effects disappeared after the products were discontinued, suggesting that lavender oil may possess hormone-disrupting activity. Indeed, when dripped on estrogen receptor positive breast cancer cells, lavender does show estrogenic effects and a decline in male hormone activity. It's unknown, however, if similar reactions occur inside the body when lavender flowers or lavender oil is ingested.\",\n",
       " 'There are some dietary components known to affect with the hormonal balance of young boys. Check out Dairy & Sexual Precocity.',\n",
       " 'More on lavender in Lavender for Migraine Headaches.',\n",
       " 'And more on dietary interventions for anxiety can be found in:',\n",
       " 'For more flower power see my blog and videos on hibiscus tea (Better Than Green Tea) and chamomile tea (Chamomile Tea May Not Be Safe During Pregnancy). And hey, broccoli florets are just clusters of flower buds. See The Best Detox, Broccoli Versus Breast Cancer Stem Cells, and dozens of my other broccoli videos.',\n",
       " '-Michael Greger, M.D.']"
      ]
     },
     "execution_count": 27,
     "metadata": {},
     "output_type": "execute_result"
    }
   ],
   "source": [
    "# Extract and clean paragraphs while excluding those that start with certain phrases\n",
    "paragraphs_raw: list[str] = [para_html.get_text().strip() for para_html in paragraphs_html]\n",
    "exclude_startswith: list[str] = [\n",
    "    \"Written By\",\n",
    "    \"Image Credit\",\n",
    "    \"In health\",\n",
    "    \"Michael Greger\",\n",
    "    \"PS:\",\n",
    "    \"A founding member\",\n",
    "    \"Subscribe\",\n",
    "    \"Catch up\",\n",
    "    \"Charity ID\",\n",
    "    \"We  our volunteers!\",\n",
    "    \"Interested in learning more about\",\n",
    "    \"Check out:\",\n",
    "]\n",
    "# Create clean list\n",
    "paragraphs_clean: list[str] = [\n",
    "    replace_strange_chars(para_raw)\n",
    "    for para_raw in paragraphs_raw\n",
    "    if para_raw and not any(para_raw.startswith(prefix) for prefix in exclude_startswith)\n",
    "]\n",
    "paragraphs_clean"
   ]
  },
  {
   "cell_type": "markdown",
   "id": "0d9895ea-d6b2-4746-9dfe-470ee1d6039c",
   "metadata": {},
   "source": [
    "### Extract key takeaways"
   ]
  },
  {
   "cell_type": "code",
   "execution_count": 28,
   "id": "5ad79f2b-e5a7-40b3-8c78-310dc7918a39",
   "metadata": {},
   "outputs": [],
   "source": [
    "key_takeaways_heading = soup.find(\"p\", string=\"KEY TAKEAWAYS\")\n",
    "if key_takeaways_heading is None:\n",
    "    key_takeaways = []\n",
    "else:\n",
    "    # Find the next <ul> element after the \"KEY TAKEAWAYS\" heading\n",
    "    key_takeaways_list = key_takeaways_heading.find_next(\"ul\")\n",
    "\n",
    "    # Extract the text from each <li> in the list\n",
    "    key_takeaways = [replace_strange_chars(li.get_text().stripe()) for li in key_takeaways_list.find_all(\"li\")]\n",
    "\n",
    "# Print or use the extracted key takeaways\n",
    "for takeaway in key_takeaways:\n",
    "    print(takeaway)\n"
   ]
  },
  {
   "cell_type": "markdown",
   "id": "416f15dc-b641-4779-ba9a-f7a39888e37a",
   "metadata": {},
   "source": [
    "### article tags"
   ]
  },
  {
   "cell_type": "code",
   "execution_count": 29,
   "id": "afb996e9-55a7-429a-aa56-7da228d11879",
   "metadata": {},
   "outputs": [
    {
     "name": "stdout",
     "output_type": "stream",
     "text": [
      "['anxiety', 'aromatherapy', 'ativan', 'benzodiazepines', 'brain', 'downers', 'hormone', 'hormones', 'lavender', 'lavender', 'lorazepam', 'massage', 'saffron', 'sedatives', 'side']\n",
      "['news']\n"
     ]
    }
   ],
   "source": [
    "tags_raw = soup.find(\"article\").get(\"class\")\n",
    "if tags_raw:\n",
    "    tags_blog = [tag.split(\"-\")[1] for tag in tags_raw if tag.startswith(\"tag-\")]\n",
    "    print(tags_blog)\n",
    "    cats = [cat.split(\"-\")[1] for cat in tags_raw if cat.startswith(\"category-\")]\n",
    "    print(cats)"
   ]
  },
  {
   "cell_type": "markdown",
   "id": "8d4989c0-9ee1-432f-831e-2a40402823fc",
   "metadata": {},
   "source": [
    "### export to json"
   ]
  },
  {
   "cell_type": "code",
   "execution_count": 30,
   "id": "830dafeb-56b9-491f-b92a-4049e3b28c04",
   "metadata": {},
   "outputs": [],
   "source": [
    "blog_data = extract_blog_data(soup)"
   ]
  },
  {
   "cell_type": "code",
   "execution_count": 31,
   "id": "2030778c-9da0-4ef8-a00d-abda192e59b4",
   "metadata": {},
   "outputs": [],
   "source": [
    "# write to json file\n",
    "with open(f\"{url_tail}.json\", \"w\", encoding=\"utf-8\") as json_file:\n",
    "    json.dump(blog_data, json_file, ensure_ascii=True, indent=4)"
   ]
  },
  {
   "cell_type": "code",
   "execution_count": null,
   "id": "f4f42552-2a77-42d5-b4a6-1a065a30db36",
   "metadata": {},
   "outputs": [],
   "source": []
  },
  {
   "cell_type": "markdown",
   "id": "e9406429-3e75-49cb-bcbe-e6749b7348a2",
   "metadata": {},
   "source": [
    "### Real extraction loop\n",
    "pure text (NOT used in the end)"
   ]
  },
  {
   "cell_type": "code",
   "execution_count": 32,
   "id": "a25be4ce-d821-47e9-a659-a228399f8468",
   "metadata": {},
   "outputs": [
    {
     "name": "stderr",
     "output_type": "stream",
     "text": [
      "100%|█████████████████████████████████████████████████████████████████████████████████████████████████████████████████| 1287/1287 [27:28<00:00,  1.28s/it]\n"
     ]
    }
   ],
   "source": [
    "# pure text\n",
    "for url in tqdm(urls_list):\n",
    "    url_tail = url.replace(root_url, \"\").replace(\"/\", \"\")\n",
    "    file_out = post_path_raw / f\"{url_tail}.txt\"\n",
    "    if file_out.exists():\n",
    "        continue\n",
    "\n",
    "    time.sleep(0.5)  # wait a bit to avoid being blocked\n",
    "\n",
    "    # get the HTML content\n",
    "    response = get_webpage_content(url)\n",
    "    # Parse the HTML content\n",
    "    soup = BeautifulSoup(response.content, \"html.parser\")\n",
    "\n",
    "    # Extract the content\n",
    "    paragraphs = soup.find_all(\"p\")\n",
    "    content = \"\\n\\n\".join(para.get_text() for para in paragraphs)\n",
    "\n",
    "    # export to file\n",
    "    with open(file_out, \"w\", encoding=\"utf-8\") as f:\n",
    "        f.write(content)"
   ]
  },
  {
   "cell_type": "markdown",
   "id": "db1227a4-0677-4474-a686-c9bfdca21274",
   "metadata": {},
   "source": [
    "### meta data & text chunks (used in the end)"
   ]
  },
  {
   "cell_type": "code",
   "execution_count": 33,
   "id": "dace2b95-e6cf-4397-a199-b6251bce572d",
   "metadata": {},
   "outputs": [
    {
     "name": "stderr",
     "output_type": "stream",
     "text": [
      "100%|█████████████████████████████████████████████████████████████████████████████████████████████████████████████████| 1287/1287 [21:23<00:00,  1.00it/s]\n"
     ]
    }
   ],
   "source": [
    "for url in tqdm(urls_list):\n",
    "    url_tail = url.replace(root_url, \"\").replace(\"/\", \"\")\n",
    "    file_out = post_path_json / f\"{url_tail}.json\"\n",
    "    if file_out.exists():\n",
    "        continue\n",
    "\n",
    "    time.sleep(0.1)  # wait a bit to avoid being blocked\n",
    "\n",
    "    # get the HTML content\n",
    "    response = get_webpage_content(url)\n",
    "\n",
    "    # Parse the HTML content\n",
    "    soup = BeautifulSoup(response.content, \"html.parser\")\n",
    "\n",
    "    # Extract the blog data\n",
    "    blog_data: dict = {\"url\": url}\n",
    "    blog_data.update(extract_blog_data(soup))\n",
    "\n",
    "    # export to json file\n",
    "    with open(file_out, \"w\", encoding=\"utf-8\") as json_file:\n",
    "        json.dump(blog_data, json_file, ensure_ascii=True, indent=4)"
   ]
  },
  {
   "cell_type": "code",
   "execution_count": null,
   "id": "14fa0598-952f-4f3e-b2b4-51c579537558",
   "metadata": {},
   "outputs": [],
   "source": []
  },
  {
   "cell_type": "code",
   "execution_count": null,
   "id": "1bfca29f-56ad-4334-9dde-61b8b4572702",
   "metadata": {},
   "outputs": [],
   "source": []
  },
  {
   "cell_type": "code",
   "execution_count": null,
   "id": "9a00c204-51c4-4c35-af2d-5aa1c3754a00",
   "metadata": {},
   "outputs": [],
   "source": []
  },
  {
   "cell_type": "code",
   "execution_count": null,
   "id": "07af1deb-98e4-4158-ae84-55126d0d8717",
   "metadata": {},
   "outputs": [],
   "source": []
  },
  {
   "cell_type": "code",
   "execution_count": null,
   "id": "be066407-e5e5-4829-97ef-21ed2ec5b664",
   "metadata": {},
   "outputs": [],
   "source": []
  }
 ],
 "metadata": {
  "kernelspec": {
   "display_name": "Python 3 (ipykernel)",
   "language": "python",
   "name": "python3"
  },
  "language_info": {
   "codemirror_mode": {
    "name": "ipython",
    "version": 3
   },
   "file_extension": ".py",
   "mimetype": "text/x-python",
   "name": "python",
   "nbconvert_exporter": "python",
   "pygments_lexer": "ipython3",
   "version": "3.12.1"
  }
 },
 "nbformat": 4,
 "nbformat_minor": 5
}
